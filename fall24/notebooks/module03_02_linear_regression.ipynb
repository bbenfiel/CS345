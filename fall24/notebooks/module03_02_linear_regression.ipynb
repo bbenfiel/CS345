{
  "cells": [
    {
      "cell_type": "markdown",
      "metadata": {
        "id": "-N2vAArUjzMA"
      },
      "source": [
        "*This notebook is part of  course materials for CS 345: Machine Learning Foundations and Practice at Colorado State University.\n",
        "Original versions were created by Asa Ben-Hur.\n",
        "The content is availabe [on GitHub](https://github.com/asabenhur/CS345).*\n",
        "\n",
        "*The text is released under the [CC BY-SA license](https://creativecommons.org/licenses/by-sa/4.0/), and code is released under the [MIT license](https://opensource.org/licenses/MIT).*"
      ]
    },
    {
      "cell_type": "markdown",
      "metadata": {
        "id": "K5vKxUtajzMF"
      },
      "source": [
        "<a href=\"https://colab.research.google.com/github//asabenhur/CS345/blob/master/fall24/notebooks/module03_02_linear_regression.ipynb\">\n",
        "  <img align=\"left\" src=\"https://colab.research.google.com/assets/colab-badge.svg\" alt=\"Open In Colab\"/>\n",
        "</a>"
      ]
    },
    {
      "cell_type": "code",
      "execution_count": 1,
      "metadata": {
        "id": "TAy9IKWojzMF"
      },
      "outputs": [],
      "source": [
        "import numpy as np\n",
        "import matplotlib.pyplot as plt\n",
        "np.set_printoptions(precision=4)"
      ]
    },
    {
      "cell_type": "markdown",
      "metadata": {
        "id": "UAJVWQBpjzMH"
      },
      "source": [
        "# Linear Regression\n",
        "\n",
        "*Adapted from Chapter 3 of [An Introduction to Statistical Learning](https://www.statlearning.com/)*"
      ]
    },
    {
      "cell_type": "markdown",
      "metadata": {
        "id": "Bs0IOsJmjzMH"
      },
      "source": [
        "### Regression problems"
      ]
    },
    {
      "cell_type": "markdown",
      "metadata": {
        "id": "mqKT0CJqjzMH"
      },
      "source": [
        "The two primary types of machine learning problems we will focus on in this course are:\n",
        "\n",
        "* **Classification problems:** supervised learning problems with a categorical label\n",
        "* **Regression problems**: supervised learning problems with a continuous label\n",
        "\n",
        "In this notebook we will learn one of the simplest methods for regression, namely **linear regression**.\n",
        "\n",
        "Why learn linear regression?\n",
        "\n",
        "- Fast\n",
        "- Easy to use\n",
        "- Interpretable\n",
        "- Basis for many other methods\n"
      ]
    },
    {
      "cell_type": "markdown",
      "metadata": {
        "id": "5Z8R7N8QjzMI"
      },
      "source": [
        "### The advertising data"
      ]
    },
    {
      "cell_type": "markdown",
      "metadata": {
        "id": "VcWW_T0PjzMI"
      },
      "source": [
        "To illustrate the concept of linear regression we will use a dataset that describes product sales as a function of advertising.\n",
        "\n",
        "What are the examples?\n",
        "\n",
        "- Each example represents a product in a given market with a total of 200 in the dataset.\n",
        "\n",
        "What are the features?\n",
        "\n",
        "- **TV:** advertising dollars spent on TV ads\n",
        "- **radio:** advertising dollars spent on radio ads\n",
        "- **newspaper:** advertising dollars spent on newspaper ads\n",
        "\n",
        "All expenditures are in thousands of dollars.\n",
        "\n",
        "What are the labels?\n",
        "\n",
        "- **sales:** sales of a product in a given market (in thousands of widgets)\n"
      ]
    },
    {
      "cell_type": "code",
      "execution_count": 2,
      "metadata": {
        "colab": {
          "base_uri": "https://localhost:8080/",
          "height": 206
        },
        "id": "8TyepIS_jzMI",
        "outputId": "ff702347-b0f2-412f-a4ad-8e661bc21c7c"
      },
      "outputs": [
        {
          "output_type": "execute_result",
          "data": {
            "text/plain": [
              "      TV  radio  newspaper  sales\n",
              "1  230.1   37.8       69.2   22.1\n",
              "2   44.5   39.3       45.1   10.4\n",
              "3   17.2   45.9       69.3    9.3\n",
              "4  151.5   41.3       58.5   18.5\n",
              "5  180.8   10.8       58.4   12.9"
            ],
            "text/html": [
              "\n",
              "  <div id=\"df-470044a8-a5c8-45c4-a71e-2970f416ccd4\" class=\"colab-df-container\">\n",
              "    <div>\n",
              "<style scoped>\n",
              "    .dataframe tbody tr th:only-of-type {\n",
              "        vertical-align: middle;\n",
              "    }\n",
              "\n",
              "    .dataframe tbody tr th {\n",
              "        vertical-align: top;\n",
              "    }\n",
              "\n",
              "    .dataframe thead th {\n",
              "        text-align: right;\n",
              "    }\n",
              "</style>\n",
              "<table border=\"1\" class=\"dataframe\">\n",
              "  <thead>\n",
              "    <tr style=\"text-align: right;\">\n",
              "      <th></th>\n",
              "      <th>TV</th>\n",
              "      <th>radio</th>\n",
              "      <th>newspaper</th>\n",
              "      <th>sales</th>\n",
              "    </tr>\n",
              "  </thead>\n",
              "  <tbody>\n",
              "    <tr>\n",
              "      <th>1</th>\n",
              "      <td>230.1</td>\n",
              "      <td>37.8</td>\n",
              "      <td>69.2</td>\n",
              "      <td>22.1</td>\n",
              "    </tr>\n",
              "    <tr>\n",
              "      <th>2</th>\n",
              "      <td>44.5</td>\n",
              "      <td>39.3</td>\n",
              "      <td>45.1</td>\n",
              "      <td>10.4</td>\n",
              "    </tr>\n",
              "    <tr>\n",
              "      <th>3</th>\n",
              "      <td>17.2</td>\n",
              "      <td>45.9</td>\n",
              "      <td>69.3</td>\n",
              "      <td>9.3</td>\n",
              "    </tr>\n",
              "    <tr>\n",
              "      <th>4</th>\n",
              "      <td>151.5</td>\n",
              "      <td>41.3</td>\n",
              "      <td>58.5</td>\n",
              "      <td>18.5</td>\n",
              "    </tr>\n",
              "    <tr>\n",
              "      <th>5</th>\n",
              "      <td>180.8</td>\n",
              "      <td>10.8</td>\n",
              "      <td>58.4</td>\n",
              "      <td>12.9</td>\n",
              "    </tr>\n",
              "  </tbody>\n",
              "</table>\n",
              "</div>\n",
              "    <div class=\"colab-df-buttons\">\n",
              "\n",
              "  <div class=\"colab-df-container\">\n",
              "    <button class=\"colab-df-convert\" onclick=\"convertToInteractive('df-470044a8-a5c8-45c4-a71e-2970f416ccd4')\"\n",
              "            title=\"Convert this dataframe to an interactive table.\"\n",
              "            style=\"display:none;\">\n",
              "\n",
              "  <svg xmlns=\"http://www.w3.org/2000/svg\" height=\"24px\" viewBox=\"0 -960 960 960\">\n",
              "    <path d=\"M120-120v-720h720v720H120Zm60-500h600v-160H180v160Zm220 220h160v-160H400v160Zm0 220h160v-160H400v160ZM180-400h160v-160H180v160Zm440 0h160v-160H620v160ZM180-180h160v-160H180v160Zm440 0h160v-160H620v160Z\"/>\n",
              "  </svg>\n",
              "    </button>\n",
              "\n",
              "  <style>\n",
              "    .colab-df-container {\n",
              "      display:flex;\n",
              "      gap: 12px;\n",
              "    }\n",
              "\n",
              "    .colab-df-convert {\n",
              "      background-color: #E8F0FE;\n",
              "      border: none;\n",
              "      border-radius: 50%;\n",
              "      cursor: pointer;\n",
              "      display: none;\n",
              "      fill: #1967D2;\n",
              "      height: 32px;\n",
              "      padding: 0 0 0 0;\n",
              "      width: 32px;\n",
              "    }\n",
              "\n",
              "    .colab-df-convert:hover {\n",
              "      background-color: #E2EBFA;\n",
              "      box-shadow: 0px 1px 2px rgba(60, 64, 67, 0.3), 0px 1px 3px 1px rgba(60, 64, 67, 0.15);\n",
              "      fill: #174EA6;\n",
              "    }\n",
              "\n",
              "    .colab-df-buttons div {\n",
              "      margin-bottom: 4px;\n",
              "    }\n",
              "\n",
              "    [theme=dark] .colab-df-convert {\n",
              "      background-color: #3B4455;\n",
              "      fill: #D2E3FC;\n",
              "    }\n",
              "\n",
              "    [theme=dark] .colab-df-convert:hover {\n",
              "      background-color: #434B5C;\n",
              "      box-shadow: 0px 1px 3px 1px rgba(0, 0, 0, 0.15);\n",
              "      filter: drop-shadow(0px 1px 2px rgba(0, 0, 0, 0.3));\n",
              "      fill: #FFFFFF;\n",
              "    }\n",
              "  </style>\n",
              "\n",
              "    <script>\n",
              "      const buttonEl =\n",
              "        document.querySelector('#df-470044a8-a5c8-45c4-a71e-2970f416ccd4 button.colab-df-convert');\n",
              "      buttonEl.style.display =\n",
              "        google.colab.kernel.accessAllowed ? 'block' : 'none';\n",
              "\n",
              "      async function convertToInteractive(key) {\n",
              "        const element = document.querySelector('#df-470044a8-a5c8-45c4-a71e-2970f416ccd4');\n",
              "        const dataTable =\n",
              "          await google.colab.kernel.invokeFunction('convertToInteractive',\n",
              "                                                    [key], {});\n",
              "        if (!dataTable) return;\n",
              "\n",
              "        const docLinkHtml = 'Like what you see? Visit the ' +\n",
              "          '<a target=\"_blank\" href=https://colab.research.google.com/notebooks/data_table.ipynb>data table notebook</a>'\n",
              "          + ' to learn more about interactive tables.';\n",
              "        element.innerHTML = '';\n",
              "        dataTable['output_type'] = 'display_data';\n",
              "        await google.colab.output.renderOutput(dataTable, element);\n",
              "        const docLink = document.createElement('div');\n",
              "        docLink.innerHTML = docLinkHtml;\n",
              "        element.appendChild(docLink);\n",
              "      }\n",
              "    </script>\n",
              "  </div>\n",
              "\n",
              "\n",
              "<div id=\"df-db2fce83-d424-46c0-a818-20a71f7dc09b\">\n",
              "  <button class=\"colab-df-quickchart\" onclick=\"quickchart('df-db2fce83-d424-46c0-a818-20a71f7dc09b')\"\n",
              "            title=\"Suggest charts\"\n",
              "            style=\"display:none;\">\n",
              "\n",
              "<svg xmlns=\"http://www.w3.org/2000/svg\" height=\"24px\"viewBox=\"0 0 24 24\"\n",
              "     width=\"24px\">\n",
              "    <g>\n",
              "        <path d=\"M19 3H5c-1.1 0-2 .9-2 2v14c0 1.1.9 2 2 2h14c1.1 0 2-.9 2-2V5c0-1.1-.9-2-2-2zM9 17H7v-7h2v7zm4 0h-2V7h2v10zm4 0h-2v-4h2v4z\"/>\n",
              "    </g>\n",
              "</svg>\n",
              "  </button>\n",
              "\n",
              "<style>\n",
              "  .colab-df-quickchart {\n",
              "      --bg-color: #E8F0FE;\n",
              "      --fill-color: #1967D2;\n",
              "      --hover-bg-color: #E2EBFA;\n",
              "      --hover-fill-color: #174EA6;\n",
              "      --disabled-fill-color: #AAA;\n",
              "      --disabled-bg-color: #DDD;\n",
              "  }\n",
              "\n",
              "  [theme=dark] .colab-df-quickchart {\n",
              "      --bg-color: #3B4455;\n",
              "      --fill-color: #D2E3FC;\n",
              "      --hover-bg-color: #434B5C;\n",
              "      --hover-fill-color: #FFFFFF;\n",
              "      --disabled-bg-color: #3B4455;\n",
              "      --disabled-fill-color: #666;\n",
              "  }\n",
              "\n",
              "  .colab-df-quickchart {\n",
              "    background-color: var(--bg-color);\n",
              "    border: none;\n",
              "    border-radius: 50%;\n",
              "    cursor: pointer;\n",
              "    display: none;\n",
              "    fill: var(--fill-color);\n",
              "    height: 32px;\n",
              "    padding: 0;\n",
              "    width: 32px;\n",
              "  }\n",
              "\n",
              "  .colab-df-quickchart:hover {\n",
              "    background-color: var(--hover-bg-color);\n",
              "    box-shadow: 0 1px 2px rgba(60, 64, 67, 0.3), 0 1px 3px 1px rgba(60, 64, 67, 0.15);\n",
              "    fill: var(--button-hover-fill-color);\n",
              "  }\n",
              "\n",
              "  .colab-df-quickchart-complete:disabled,\n",
              "  .colab-df-quickchart-complete:disabled:hover {\n",
              "    background-color: var(--disabled-bg-color);\n",
              "    fill: var(--disabled-fill-color);\n",
              "    box-shadow: none;\n",
              "  }\n",
              "\n",
              "  .colab-df-spinner {\n",
              "    border: 2px solid var(--fill-color);\n",
              "    border-color: transparent;\n",
              "    border-bottom-color: var(--fill-color);\n",
              "    animation:\n",
              "      spin 1s steps(1) infinite;\n",
              "  }\n",
              "\n",
              "  @keyframes spin {\n",
              "    0% {\n",
              "      border-color: transparent;\n",
              "      border-bottom-color: var(--fill-color);\n",
              "      border-left-color: var(--fill-color);\n",
              "    }\n",
              "    20% {\n",
              "      border-color: transparent;\n",
              "      border-left-color: var(--fill-color);\n",
              "      border-top-color: var(--fill-color);\n",
              "    }\n",
              "    30% {\n",
              "      border-color: transparent;\n",
              "      border-left-color: var(--fill-color);\n",
              "      border-top-color: var(--fill-color);\n",
              "      border-right-color: var(--fill-color);\n",
              "    }\n",
              "    40% {\n",
              "      border-color: transparent;\n",
              "      border-right-color: var(--fill-color);\n",
              "      border-top-color: var(--fill-color);\n",
              "    }\n",
              "    60% {\n",
              "      border-color: transparent;\n",
              "      border-right-color: var(--fill-color);\n",
              "    }\n",
              "    80% {\n",
              "      border-color: transparent;\n",
              "      border-right-color: var(--fill-color);\n",
              "      border-bottom-color: var(--fill-color);\n",
              "    }\n",
              "    90% {\n",
              "      border-color: transparent;\n",
              "      border-bottom-color: var(--fill-color);\n",
              "    }\n",
              "  }\n",
              "</style>\n",
              "\n",
              "  <script>\n",
              "    async function quickchart(key) {\n",
              "      const quickchartButtonEl =\n",
              "        document.querySelector('#' + key + ' button');\n",
              "      quickchartButtonEl.disabled = true;  // To prevent multiple clicks.\n",
              "      quickchartButtonEl.classList.add('colab-df-spinner');\n",
              "      try {\n",
              "        const charts = await google.colab.kernel.invokeFunction(\n",
              "            'suggestCharts', [key], {});\n",
              "      } catch (error) {\n",
              "        console.error('Error during call to suggestCharts:', error);\n",
              "      }\n",
              "      quickchartButtonEl.classList.remove('colab-df-spinner');\n",
              "      quickchartButtonEl.classList.add('colab-df-quickchart-complete');\n",
              "    }\n",
              "    (() => {\n",
              "      let quickchartButtonEl =\n",
              "        document.querySelector('#df-db2fce83-d424-46c0-a818-20a71f7dc09b button');\n",
              "      quickchartButtonEl.style.display =\n",
              "        google.colab.kernel.accessAllowed ? 'block' : 'none';\n",
              "    })();\n",
              "  </script>\n",
              "</div>\n",
              "\n",
              "    </div>\n",
              "  </div>\n"
            ],
            "application/vnd.google.colaboratory.intrinsic+json": {
              "type": "dataframe",
              "variable_name": "data",
              "summary": "{\n  \"name\": \"data\",\n  \"rows\": 200,\n  \"fields\": [\n    {\n      \"column\": \"TV\",\n      \"properties\": {\n        \"dtype\": \"number\",\n        \"std\": 85.8542363149081,\n        \"min\": 0.7,\n        \"max\": 296.4,\n        \"num_unique_values\": 190,\n        \"samples\": [\n          287.6,\n          286.0,\n          78.2\n        ],\n        \"semantic_type\": \"\",\n        \"description\": \"\"\n      }\n    },\n    {\n      \"column\": \"radio\",\n      \"properties\": {\n        \"dtype\": \"number\",\n        \"std\": 14.846809176168723,\n        \"min\": 0.0,\n        \"max\": 49.6,\n        \"num_unique_values\": 167,\n        \"samples\": [\n          8.2,\n          36.9,\n          44.5\n        ],\n        \"semantic_type\": \"\",\n        \"description\": \"\"\n      }\n    },\n    {\n      \"column\": \"newspaper\",\n      \"properties\": {\n        \"dtype\": \"number\",\n        \"std\": 21.778620838522833,\n        \"min\": 0.3,\n        \"max\": 114.0,\n        \"num_unique_values\": 172,\n        \"samples\": [\n          22.3,\n          5.7,\n          17.0\n        ],\n        \"semantic_type\": \"\",\n        \"description\": \"\"\n      }\n    },\n    {\n      \"column\": \"sales\",\n      \"properties\": {\n        \"dtype\": \"number\",\n        \"std\": 5.217456565710477,\n        \"min\": 1.6,\n        \"max\": 27.0,\n        \"num_unique_values\": 121,\n        \"samples\": [\n          11.4,\n          21.2,\n          12.9\n        ],\n        \"semantic_type\": \"\",\n        \"description\": \"\"\n      }\n    }\n  ]\n}"
            }
          },
          "metadata": {},
          "execution_count": 2
        }
      ],
      "source": [
        "# read data into a pandas DataFrame\n",
        "import pandas as pd\n",
        "data = pd.read_csv('https://www.statlearning.com/s/Advertising.csv',\n",
        "                   index_col=0)\n",
        "data.head()"
      ]
    },
    {
      "cell_type": "code",
      "execution_count": null,
      "metadata": {
        "id": "FR_3MHa2jzMJ",
        "outputId": "3826883a-86ae-49a0-b408-85a514c4e8cc"
      },
      "outputs": [
        {
          "data": {
            "text/plain": [
              "200"
            ]
          },
          "execution_count": 2,
          "metadata": {},
          "output_type": "execute_result"
        }
      ],
      "source": [
        "len(data)"
      ]
    },
    {
      "cell_type": "markdown",
      "metadata": {
        "id": "Qr9Uc7hUjzMK"
      },
      "source": [
        "### How can you help?\n",
        "\n",
        "You are asked by the company: On the basis of this data, how should we spend our advertising money?\n",
        "\n",
        "As their machine learning / data scientist, you offer more specific help:\n",
        "\n",
        "* Is there a relationship between ads and sales?\n",
        "* How strong is that relationship?\n",
        "* Which ad types contribute to sales?\n",
        "* What is the effect of each ad type on sales?\n",
        "* Given ad spending in a particular market, can sales be predicted?\n"
      ]
    },
    {
      "cell_type": "markdown",
      "metadata": {
        "id": "20D7JQ59jzMK"
      },
      "source": [
        "### Visualizing the data\n",
        "\n",
        "We'll use a **scatter plot** to visualize the relationship between the features and the labels."
      ]
    },
    {
      "cell_type": "code",
      "execution_count": 3,
      "metadata": {
        "colab": {
          "base_uri": "https://localhost:8080/",
          "height": 388
        },
        "id": "jwb7o6lfjzMK",
        "outputId": "70f9a174-e399-4a18-8cc9-4ae1f16708f1"
      },
      "outputs": [
        {
          "output_type": "display_data",
          "data": {
            "text/plain": [
              "<Figure size 1200x400 with 3 Axes>"
            ],
            "image/png": "[encoded data removed]"
          },
          "metadata": {}
        }
      ],
      "source": [
        "fig, (ax1,ax2,ax3) = plt.subplots(1,3, figsize=(12, 4))\n",
        "ax1.scatter(data['TV'], data['sales'], alpha=0.5)\n",
        "ax1.set_xlabel('TV')\n",
        "ax1.set_ylabel('sales')\n",
        "ax2.scatter(data['radio'], data['sales'], alpha=0.5)\n",
        "ax2.set_xlabel('radio')\n",
        "ax3.scatter(data['newspaper'], data['sales'], alpha=0.5)\n",
        "ax3.set_xlabel('newspaper');"
      ]
    },
    {
      "cell_type": "markdown",
      "metadata": {
        "id": "_l3K7832jzMK"
      },
      "source": [
        "These figures show that there is a relationship between these features and the labels, and some features appear to be more predictive of the response (the label, $y$). We can quantify the strength of the relationships between variables by computing the correlation matrix:"
      ]
    },
    {
      "cell_type": "code",
      "execution_count": 4,
      "metadata": {
        "colab": {
          "base_uri": "https://localhost:8080/",
          "height": 175
        },
        "id": "lWEuO2ZFjzMK",
        "outputId": "84b7a8cb-952a-4189-cf19-9d06238e6b85"
      },
      "outputs": [
        {
          "output_type": "execute_result",
          "data": {
            "text/plain": [
              "                 TV     radio  newspaper     sales\n",
              "TV         1.000000  0.054809   0.056648  0.782224\n",
              "radio      0.054809  1.000000   0.354104  0.576223\n",
              "newspaper  0.056648  0.354104   1.000000  0.228299\n",
              "sales      0.782224  0.576223   0.228299  1.000000"
            ],
            "text/html": [
              "\n",
              "  <div id=\"df-1610ff1b-fa9f-48e9-bb19-74a8a917e9b6\" class=\"colab-df-container\">\n",
              "    <div>\n",
              "<style scoped>\n",
              "    .dataframe tbody tr th:only-of-type {\n",
              "        vertical-align: middle;\n",
              "    }\n",
              "\n",
              "    .dataframe tbody tr th {\n",
              "        vertical-align: top;\n",
              "    }\n",
              "\n",
              "    .dataframe thead th {\n",
              "        text-align: right;\n",
              "    }\n",
              "</style>\n",
              "<table border=\"1\" class=\"dataframe\">\n",
              "  <thead>\n",
              "    <tr style=\"text-align: right;\">\n",
              "      <th></th>\n",
              "      <th>TV</th>\n",
              "      <th>radio</th>\n",
              "      <th>newspaper</th>\n",
              "      <th>sales</th>\n",
              "    </tr>\n",
              "  </thead>\n",
              "  <tbody>\n",
              "    <tr>\n",
              "      <th>TV</th>\n",
              "      <td>1.000000</td>\n",
              "      <td>0.054809</td>\n",
              "      <td>0.056648</td>\n",
              "      <td>0.782224</td>\n",
              "    </tr>\n",
              "    <tr>\n",
              "      <th>radio</th>\n",
              "      <td>0.054809</td>\n",
              "      <td>1.000000</td>\n",
              "      <td>0.354104</td>\n",
              "      <td>0.576223</td>\n",
              "    </tr>\n",
              "    <tr>\n",
              "      <th>newspaper</th>\n",
              "      <td>0.056648</td>\n",
              "      <td>0.354104</td>\n",
              "      <td>1.000000</td>\n",
              "      <td>0.228299</td>\n",
              "    </tr>\n",
              "    <tr>\n",
              "      <th>sales</th>\n",
              "      <td>0.782224</td>\n",
              "      <td>0.576223</td>\n",
              "      <td>0.228299</td>\n",
              "      <td>1.000000</td>\n",
              "    </tr>\n",
              "  </tbody>\n",
              "</table>\n",
              "</div>\n",
              "    <div class=\"colab-df-buttons\">\n",
              "\n",
              "  <div class=\"colab-df-container\">\n",
              "    <button class=\"colab-df-convert\" onclick=\"convertToInteractive('df-1610ff1b-fa9f-48e9-bb19-74a8a917e9b6')\"\n",
              "            title=\"Convert this dataframe to an interactive table.\"\n",
              "            style=\"display:none;\">\n",
              "\n",
              "  <svg xmlns=\"http://www.w3.org/2000/svg\" height=\"24px\" viewBox=\"0 -960 960 960\">\n",
              "    <path d=\"M120-120v-720h720v720H120Zm60-500h600v-160H180v160Zm220 220h160v-160H400v160Zm0 220h160v-160H400v160ZM180-400h160v-160H180v160Zm440 0h160v-160H620v160ZM180-180h160v-160H180v160Zm440 0h160v-160H620v160Z\"/>\n",
              "  </svg>\n",
              "    </button>\n",
              "\n",
              "  <style>\n",
              "    .colab-df-container {\n",
              "      display:flex;\n",
              "      gap: 12px;\n",
              "    }\n",
              "\n",
              "    .colab-df-convert {\n",
              "      background-color: #E8F0FE;\n",
              "      border: none;\n",
              "      border-radius: 50%;\n",
              "      cursor: pointer;\n",
              "      display: none;\n",
              "      fill: #1967D2;\n",
              "      height: 32px;\n",
              "      padding: 0 0 0 0;\n",
              "      width: 32px;\n",
              "    }\n",
              "\n",
              "    .colab-df-convert:hover {\n",
              "      background-color: #E2EBFA;\n",
              "      box-shadow: 0px 1px 2px rgba(60, 64, 67, 0.3), 0px 1px 3px 1px rgba(60, 64, 67, 0.15);\n",
              "      fill: #174EA6;\n",
              "    }\n",
              "\n",
              "    .colab-df-buttons div {\n",
              "      margin-bottom: 4px;\n",
              "    }\n",
              "\n",
              "    [theme=dark] .colab-df-convert {\n",
              "      background-color: #3B4455;\n",
              "      fill: #D2E3FC;\n",
              "    }\n",
              "\n",
              "    [theme=dark] .colab-df-convert:hover {\n",
              "      background-color: #434B5C;\n",
              "      box-shadow: 0px 1px 3px 1px rgba(0, 0, 0, 0.15);\n",
              "      filter: drop-shadow(0px 1px 2px rgba(0, 0, 0, 0.3));\n",
              "      fill: #FFFFFF;\n",
              "    }\n",
              "  </style>\n",
              "\n",
              "    <script>\n",
              "      const buttonEl =\n",
              "        document.querySelector('#df-1610ff1b-fa9f-48e9-bb19-74a8a917e9b6 button.colab-df-convert');\n",
              "      buttonEl.style.display =\n",
              "        google.colab.kernel.accessAllowed ? 'block' : 'none';\n",
              "\n",
              "      async function convertToInteractive(key) {\n",
              "        const element = document.querySelector('#df-1610ff1b-fa9f-48e9-bb19-74a8a917e9b6');\n",
              "        const dataTable =\n",
              "          await google.colab.kernel.invokeFunction('convertToInteractive',\n",
              "                                                    [key], {});\n",
              "        if (!dataTable) return;\n",
              "\n",
              "        const docLinkHtml = 'Like what you see? Visit the ' +\n",
              "          '<a target=\"_blank\" href=https://colab.research.google.com/notebooks/data_table.ipynb>data table notebook</a>'\n",
              "          + ' to learn more about interactive tables.';\n",
              "        element.innerHTML = '';\n",
              "        dataTable['output_type'] = 'display_data';\n",
              "        await google.colab.output.renderOutput(dataTable, element);\n",
              "        const docLink = document.createElement('div');\n",
              "        docLink.innerHTML = docLinkHtml;\n",
              "        element.appendChild(docLink);\n",
              "      }\n",
              "    </script>\n",
              "  </div>\n",
              "\n",
              "\n",
              "<div id=\"df-71c9631a-89f4-45ae-af68-9f5967b7e8bb\">\n",
              "  <button class=\"colab-df-quickchart\" onclick=\"quickchart('df-71c9631a-89f4-45ae-af68-9f5967b7e8bb')\"\n",
              "            title=\"Suggest charts\"\n",
              "            style=\"display:none;\">\n",
              "\n",
              "<svg xmlns=\"http://www.w3.org/2000/svg\" height=\"24px\"viewBox=\"0 0 24 24\"\n",
              "     width=\"24px\">\n",
              "    <g>\n",
              "        <path d=\"M19 3H5c-1.1 0-2 .9-2 2v14c0 1.1.9 2 2 2h14c1.1 0 2-.9 2-2V5c0-1.1-.9-2-2-2zM9 17H7v-7h2v7zm4 0h-2V7h2v10zm4 0h-2v-4h2v4z\"/>\n",
              "    </g>\n",
              "</svg>\n",
              "  </button>\n",
              "\n",
              "<style>\n",
              "  .colab-df-quickchart {\n",
              "      --bg-color: #E8F0FE;\n",
              "      --fill-color: #1967D2;\n",
              "      --hover-bg-color: #E2EBFA;\n",
              "      --hover-fill-color: #174EA6;\n",
              "      --disabled-fill-color: #AAA;\n",
              "      --disabled-bg-color: #DDD;\n",
              "  }\n",
              "\n",
              "  [theme=dark] .colab-df-quickchart {\n",
              "      --bg-color: #3B4455;\n",
              "      --fill-color: #D2E3FC;\n",
              "      --hover-bg-color: #434B5C;\n",
              "      --hover-fill-color: #FFFFFF;\n",
              "      --disabled-bg-color: #3B4455;\n",
              "      --disabled-fill-color: #666;\n",
              "  }\n",
              "\n",
              "  .colab-df-quickchart {\n",
              "    background-color: var(--bg-color);\n",
              "    border: none;\n",
              "    border-radius: 50%;\n",
              "    cursor: pointer;\n",
              "    display: none;\n",
              "    fill: var(--fill-color);\n",
              "    height: 32px;\n",
              "    padding: 0;\n",
              "    width: 32px;\n",
              "  }\n",
              "\n",
              "  .colab-df-quickchart:hover {\n",
              "    background-color: var(--hover-bg-color);\n",
              "    box-shadow: 0 1px 2px rgba(60, 64, 67, 0.3), 0 1px 3px 1px rgba(60, 64, 67, 0.15);\n",
              "    fill: var(--button-hover-fill-color);\n",
              "  }\n",
              "\n",
              "  .colab-df-quickchart-complete:disabled,\n",
              "  .colab-df-quickchart-complete:disabled:hover {\n",
              "    background-color: var(--disabled-bg-color);\n",
              "    fill: var(--disabled-fill-color);\n",
              "    box-shadow: none;\n",
              "  }\n",
              "\n",
              "  .colab-df-spinner {\n",
              "    border: 2px solid var(--fill-color);\n",
              "    border-color: transparent;\n",
              "    border-bottom-color: var(--fill-color);\n",
              "    animation:\n",
              "      spin 1s steps(1) infinite;\n",
              "  }\n",
              "\n",
              "  @keyframes spin {\n",
              "    0% {\n",
              "      border-color: transparent;\n",
              "      border-bottom-color: var(--fill-color);\n",
              "      border-left-color: var(--fill-color);\n",
              "    }\n",
              "    20% {\n",
              "      border-color: transparent;\n",
              "      border-left-color: var(--fill-color);\n",
              "      border-top-color: var(--fill-color);\n",
              "    }\n",
              "    30% {\n",
              "      border-color: transparent;\n",
              "      border-left-color: var(--fill-color);\n",
              "      border-top-color: var(--fill-color);\n",
              "      border-right-color: var(--fill-color);\n",
              "    }\n",
              "    40% {\n",
              "      border-color: transparent;\n",
              "      border-right-color: var(--fill-color);\n",
              "      border-top-color: var(--fill-color);\n",
              "    }\n",
              "    60% {\n",
              "      border-color: transparent;\n",
              "      border-right-color: var(--fill-color);\n",
              "    }\n",
              "    80% {\n",
              "      border-color: transparent;\n",
              "      border-right-color: var(--fill-color);\n",
              "      border-bottom-color: var(--fill-color);\n",
              "    }\n",
              "    90% {\n",
              "      border-color: transparent;\n",
              "      border-bottom-color: var(--fill-color);\n",
              "    }\n",
              "  }\n",
              "</style>\n",
              "\n",
              "  <script>\n",
              "    async function quickchart(key) {\n",
              "      const quickchartButtonEl =\n",
              "        document.querySelector('#' + key + ' button');\n",
              "      quickchartButtonEl.disabled = true;  // To prevent multiple clicks.\n",
              "      quickchartButtonEl.classList.add('colab-df-spinner');\n",
              "      try {\n",
              "        const charts = await google.colab.kernel.invokeFunction(\n",
              "            'suggestCharts', [key], {});\n",
              "      } catch (error) {\n",
              "        console.error('Error during call to suggestCharts:', error);\n",
              "      }\n",
              "      quickchartButtonEl.classList.remove('colab-df-spinner');\n",
              "      quickchartButtonEl.classList.add('colab-df-quickchart-complete');\n",
              "    }\n",
              "    (() => {\n",
              "      let quickchartButtonEl =\n",
              "        document.querySelector('#df-71c9631a-89f4-45ae-af68-9f5967b7e8bb button');\n",
              "      quickchartButtonEl.style.display =\n",
              "        google.colab.kernel.accessAllowed ? 'block' : 'none';\n",
              "    })();\n",
              "  </script>\n",
              "</div>\n",
              "\n",
              "    </div>\n",
              "  </div>\n"
            ],
            "application/vnd.google.colaboratory.intrinsic+json": {
              "type": "dataframe",
              "summary": "{\n  \"name\": \"data\",\n  \"rows\": 4,\n  \"fields\": [\n    {\n      \"column\": \"TV\",\n      \"properties\": {\n        \"dtype\": \"number\",\n        \"std\": 0.4904355627595124,\n        \"min\": 0.05480866446583008,\n        \"max\": 1.0,\n        \"num_unique_values\": 4,\n        \"samples\": [\n          0.05480866446583008,\n          0.7822244248616067,\n          1.0\n        ],\n        \"semantic_type\": \"\",\n        \"description\": \"\"\n      }\n    },\n    {\n      \"column\": \"radio\",\n      \"properties\": {\n        \"dtype\": \"number\",\n        \"std\": 0.3980099159228822,\n        \"min\": 0.05480866446583008,\n        \"max\": 1.0,\n        \"num_unique_values\": 4,\n        \"samples\": [\n          1.0,\n          0.5762225745710555,\n          0.05480866446583008\n        ],\n        \"semantic_type\": \"\",\n        \"description\": \"\"\n      }\n    },\n    {\n      \"column\": \"newspaper\",\n      \"properties\": {\n        \"dtype\": \"number\",\n        \"std\": 0.4119454387198101,\n        \"min\": 0.05664787496505698,\n        \"max\": 1.0,\n        \"num_unique_values\": 4,\n        \"samples\": [\n          0.35410375076117534,\n          0.22829902637616545,\n          0.05664787496505698\n        ],\n        \"semantic_type\": \"\",\n        \"description\": \"\"\n      }\n    },\n    {\n      \"column\": \"sales\",\n      \"properties\": {\n        \"dtype\": \"number\",\n        \"std\": 0.3282347743258531,\n        \"min\": 0.22829902637616545,\n        \"max\": 1.0,\n        \"num_unique_values\": 4,\n        \"samples\": [\n          0.5762225745710555,\n          1.0,\n          0.7822244248616067\n        ],\n        \"semantic_type\": \"\",\n        \"description\": \"\"\n      }\n    }\n  ]\n}"
            }
          },
          "metadata": {},
          "execution_count": 4
        }
      ],
      "source": [
        "# compute the correlation matrix\n",
        "data.corr()"
      ]
    },
    {
      "cell_type": "markdown",
      "metadata": {
        "id": "y2VxKlL1jzML"
      },
      "source": [
        "### A Deeper Dive into Correlation\n",
        "\n",
        "If you are looking for a rough English phrase to loosely describe correlation try this: correlation measures how much one variable's movements track the movements of another.  \n",
        "\n",
        "Moving toward a more formal definition, correlation quantifies the strength of the **linear** relationship between two variables.  \n",
        "\n",
        "\n",
        "Here's a figure that illustrates the concept:\n",
        "![correlation figure from wikipedia](https://upload.wikimedia.org/wikipedia/commons/d/d4/Correlation_examples2.svg)\n"
      ]
    },
    {
      "cell_type": "markdown",
      "metadata": {
        "id": "qNRPd5oijzML"
      },
      "source": [
        "\n",
        "Informed applied data analysts use the concept of correlation constantly and develop an intuition for the measure. Our goal here is to give you some additional geometric intuition for correlation that may or may not be part of most people's tool box.\n",
        "\n",
        "To start, here is the equation that defines the [Pearson correlation coefficient](https://en.wikipedia.org/wiki/Pearson_correlation_coefficient) between two random variables $X$ and $Y$ with observed samples $(x_1,\\ldots,x_n)$ and $(y_1,\\ldots,y_n)$:\n",
        "\n",
        "$$\n",
        "r_{xy} = \\frac{\\sum_{i=1}^{n}{(x_i} - \\bar{x})(y_i - \\bar{y})}\n",
        "            {\\sqrt{\\sum_{i=1}^{n}{(x_i - \\bar{x})^2}\\sum_{i=1}^{n}{(y_i - \\bar{y})^2}}}.\n",
        "$$\n",
        "\n",
        "Here $\\bar{x}$ and $\\bar{y}$ are the means of $X$ and $Y$, respectively.  Although we typically use the letter $y$ to denote labels, the $Y$ here can be any variable of interest.\n",
        "We can take this definition and relate it to something we already understand - dot products!\n",
        "\n",
        "First, let's look closely at the numerator in the equation above.  What you see is the average of each vector $\\bar{x}$ is being subtracted from each sample.  What would happen if $\\bar{x}$ and $\\bar{y}$ were both zero?  The numerator would reduce to:\n",
        "\n",
        "$$\n",
        "\\sum_{i=1}^{n}{x^{\\prime}_i y^{\\prime}_i}, ~~\\mathrm{where}~~\n",
        "       \\;\\;\\; x_i^{\\prime} = x_i - \\bar{x}, \\;y_i^{\\prime} = y_i - \\bar{y}\n",
        "$$\n",
        "\n",
        "In words, the numerator is just the dot product between the mean subtracted vectors.\n",
        "\n",
        "Now look at the denominator:\n",
        "\n",
        "$$\n",
        "\\sqrt{\\sum_{i=1}^{n}{(x_i - \\bar{x})^2}\\sum_{i=1}^{n}{(y_i - \\bar{y})^2}}\n",
        "$$\n",
        "\n",
        "Let's express it using our mean-subtracted vectors:\n",
        "\n",
        "$$\n",
        "\\sqrt{\\sum_{i=1}^{n}{(x_i^\\prime)^2}\\sum_{i=1}^{n}{(y_i^\\prime)^2}}\n",
        "$$\n",
        "\n",
        "\n",
        "Finally, let's express the correlation in terms of the mean-subtracted vectors:\n",
        "\n",
        "$$\n",
        "r_{xy} = \\sum_{i=1}^n \\frac{x_i^\\prime}{\\sqrt{\\sum_{j=1}^{n}{(x^{\\prime}_j)^2}}} \\frac{y_i^\\prime}{\\sqrt{\\sum_{j=1}^{n}{(y^{\\prime}_j)^2}}}\n",
        "$$\n",
        "\n",
        "In the denominators we have the magnitude of the mean-subtracted vectors, i.e. what we have here is the dot product between two unit vectors, i.e. the cosine of the angle between the mean subtracted vectors!  This both gives us a geometric intuition about correlation, and also tells us that its magnitude is between -1 and 1.\n",
        "\n",
        "Let's demonstrate that on the sales data"
      ]
    },
    {
      "cell_type": "code",
      "execution_count": 6,
      "metadata": {
        "colab": {
          "base_uri": "https://localhost:8080/"
        },
        "id": "9WOP-KhPjzML",
        "outputId": "228cd09f-7294-4b0d-b9dd-cca7eb0a153b"
      },
      "outputs": [
        {
          "output_type": "execute_result",
          "data": {
            "text/plain": [
              "((200, 1), (200,))"
            ]
          },
          "metadata": {},
          "execution_count": 6
        }
      ],
      "source": [
        "# create feature matrix and vector of labels\n",
        "X = data[['TV']].values\n",
        "y = data['sales'].values\n",
        "X.shape, y.shape"
      ]
    },
    {
      "cell_type": "code",
      "execution_count": 7,
      "metadata": {
        "colab": {
          "base_uri": "https://localhost:8080/"
        },
        "id": "w9IDXQxBjzML",
        "outputId": "4dd6c762-7f8f-4a45-f092-fc20b4ca986b"
      },
      "outputs": [
        {
          "output_type": "execute_result",
          "data": {
            "text/plain": [
              "0.7822244248616067"
            ]
          },
          "metadata": {},
          "execution_count": 7
        }
      ],
      "source": [
        "# create feature matrix and vector of labels\n",
        "X = data[['TV']].values\n",
        "y = data['sales'].values\n",
        "\n",
        "x = X[:,0]\n",
        "x_centered = x - np.mean(x)\n",
        "y_centered = y - np.mean(y)\n",
        "(x_centered / np.linalg.norm(x_centered)) @ \\\n",
        "    (y_centered / np.linalg.norm(y_centered))"
      ]
    },
    {
      "cell_type": "markdown",
      "metadata": {
        "id": "T5JfNlNJjzML"
      },
      "source": [
        "Let's verify the result with the NumPy implementation:"
      ]
    },
    {
      "cell_type": "code",
      "execution_count": 8,
      "metadata": {
        "colab": {
          "base_uri": "https://localhost:8080/"
        },
        "id": "iehVNtG2jzMM",
        "outputId": "8d4b7b1f-f4df-4f10-b299-ba5c83863dd7"
      },
      "outputs": [
        {
          "output_type": "execute_result",
          "data": {
            "text/plain": [
              "array([[1.    , 0.7822],\n",
              "       [0.7822, 1.    ]])"
            ]
          },
          "metadata": {},
          "execution_count": 8
        }
      ],
      "source": [
        "np.corrcoef(x, y)"
      ]
    },
    {
      "cell_type": "markdown",
      "metadata": {
        "id": "wymmzNQcjzMM"
      },
      "source": [
        "\n",
        "### Linear regression on the advertising data\n",
        "\n",
        "Next, we will use scikit-learn to perform linear regression to predict sales:"
      ]
    },
    {
      "cell_type": "code",
      "execution_count": 9,
      "metadata": {
        "colab": {
          "base_uri": "https://localhost:8080/",
          "height": 619
        },
        "id": "l8xUVmZVjzMM",
        "outputId": "9202374d-efd8-472c-d3b7-a954405f4b60"
      },
      "outputs": [
        {
          "output_type": "display_data",
          "data": {
            "text/plain": [
              "<Figure size 700x700 with 1 Axes>"
            ],
            "image/png": "[encoded data removed]"
          },
          "metadata": {}
        }
      ],
      "source": [
        "from sklearn.linear_model import LinearRegression\n",
        "\n",
        "# instantiate, fit, and predict:\n",
        "linreg = LinearRegression()\n",
        "linreg.fit(X, y)\n",
        "y_pred = linreg.predict(X)\n",
        "\n",
        "# plot the reslts\n",
        "fig = plt.figure(figsize=(7,7))\n",
        "ax  = fig.add_subplot(111)\n",
        "\n",
        "ax.scatter(X, y,  color='blue', alpha=0.5, label = 'data')\n",
        "ax.plot(X, y_pred, color='black', alpha=0.8,linewidth=2, label = 'model')\n",
        "ax.set_xlabel('TV advertising (thousands of dollars)')\n",
        "ax.set_ylabel('Widget sales (in thousands)')\n",
        "ax.legend(loc=\"best\");"
      ]
    },
    {
      "cell_type": "markdown",
      "metadata": {
        "id": "tO_DnYuAjzMM"
      },
      "source": [
        "### Linear regression in one dimension"
      ]
    },
    {
      "cell_type": "markdown",
      "metadata": {
        "id": "lVHpw06JjzMM"
      },
      "source": [
        "In one dimension, linear regression takes the following form:\n",
        "\n",
        "$$y =  wx + b$$\n",
        "\n",
        "where:\n",
        "\n",
        "- $y$ is the label\n",
        "- $x$ is the feature\n",
        "- $b$ is the bias, or intercept in this case\n",
        "- $w$ is the parameter corresponding to x\n",
        "\n",
        "The variables $w$ and $b$ are the **model parameters**, which are learned during the training process.  The resulting model can then be used to predict the label, which in the context of regression, is also called the *response*.\n"
      ]
    },
    {
      "cell_type": "code",
      "execution_count": null,
      "metadata": {
        "hideCode": false,
        "hidePrompt": false,
        "id": "CT76zGF-jzMP",
        "outputId": "69094bf2-421f-4cae-a15b-6a7676fe3d04"
      },
      "outputs": [
        {
          "data": {
            "image/png": "[encoded data removed]",
            "text/plain": [
              "<Figure size 432x288 with 1 Axes>"
            ]
          },
          "metadata": {
            "needs_background": "light"
          },
          "output_type": "display_data"
        }
      ],
      "source": [
        "# create some random data\n",
        "from numpy.random import default_rng\n",
        "num_examples = 15\n",
        "rng = default_rng(5)\n",
        "x = 10 * rng.random(num_examples)\n",
        "y = 2 * x - 5 + rng.standard_normal(num_examples)* 5\n",
        "\n",
        "# instantiate and fit\n",
        "model = LinearRegression()\n",
        "model.fit(x[:, np.newaxis], y)\n",
        "\n",
        "# data for plotting the regression line\n",
        "xs = np.linspace(0, 10, 1000)\n",
        "ys = model.predict(xs[:, np.newaxis])\n",
        "\n",
        "# plot the regression line\n",
        "plt.scatter(x, y, alpha=0.5)\n",
        "plt.plot(xs, ys)\n",
        "\n",
        "# the predictions over the training data\n",
        "y_hat = model.predict(x[:, np.newaxis])\n",
        "\n",
        "for i in range(len(x)):\n",
        "    plt.arrow(x[i],y_hat[i], 0, y[i]-y_hat[i])\n",
        "plt.text(x[0]+0.1, y[0]+2, r'$y_i-\\hat{y}_i$', fontsize = 14);\n",
        "plt.annotate(r'$\\hat{y} = wx + b$', fontsize=14, xy=(xs[200], ys[200]),\n",
        "             xytext=(xs[400]-3, ys[400]+7),\n",
        "             arrowprops=dict(facecolor='black',width=1,headwidth=6));"
      ]
    },
    {
      "cell_type": "markdown",
      "metadata": {
        "id": "pQvwTB8LjzMQ"
      },
      "source": [
        "### Learning the model\n",
        "\n",
        "In the figure above:\n",
        "\n",
        "- The dots are the **observed values** of x and y.\n",
        "- The blue line is the **least squares line**.\n",
        "- The black lines are the **residuals**, which are the distances between the observed values and the least squares line.  These are used to compute the **sum of squared error**.\n",
        "\n",
        "Coefficients are estimated during the model fitting process using the **least squares criterion**.\n",
        "\n",
        "How do the model parameters relate to the least squares line?\n",
        "\n",
        "- $w$ is the **slope**\n",
        "- $b$ is the **intercept** (the value of $y$ when $x$=0)\n",
        "\n",
        "The parameters $(w,b)$ are chosen as to minimize the sum-squared error:\n",
        "$$\n",
        "J( w,b ) = \\sum_{i=1}^N (y_i - \\hat{y}_i)^2,\n",
        "$$\n",
        "\n",
        "where $y_i$ are the known labels and $\\hat{y}_i = w x_i + b$ are the predicted labels."
      ]
    },
    {
      "cell_type": "markdown",
      "metadata": {
        "id": "67hHnBSUjzMQ"
      },
      "source": [
        "### Interpreting model parameters\n",
        "\n",
        "The regression coefficient $w$ which corresponds to the TV feature has the following interpretation:\n",
        "\n",
        "- A unit increase in TV ad spending is associated with an increase of $w$ units in sales.\n",
        "- This is not a statement of **causation**.\n",
        "\n",
        "If an increase in TV ad spending was associated with a **decrease** in sales, $w$ would be **negative**.\n",
        "\n",
        "Let's test this out on the advertising data:"
      ]
    },
    {
      "cell_type": "code",
      "execution_count": null,
      "metadata": {
        "id": "BYiG88-YjzMQ",
        "outputId": "bcebdb78-88f8-4489-ca34-ed36315be4d4"
      },
      "outputs": [
        {
          "name": "stdout",
          "output_type": "stream",
          "text": [
            "The w model parameter is 0.048\n",
            "The b model parameter is 7.033\n",
            "Increasing TV advertising from 100 to 200 increases predicted sales from 11.8 to 16.5 thousand widgets\n"
          ]
        },
        {
          "data": {
            "image/png": "[encoded data removed]",
            "text/plain": [
              "<Figure size 504x504 with 1 Axes>"
            ]
          },
          "metadata": {
            "needs_background": "light"
          },
          "output_type": "display_data"
        }
      ],
      "source": [
        "# create X and y\n",
        "X = data[['TV']].values\n",
        "y = data['sales'].values\n",
        "\n",
        "# instantiate and fit\n",
        "linreg = LinearRegression()\n",
        "linreg.fit(X, y)\n",
        "\n",
        "w = linreg.coef_[0]\n",
        "b = linreg.intercept_\n",
        "\n",
        "# print the coefficients\n",
        "print(f'The w model parameter is {w:.3f}')\n",
        "print(f'The b model parameter is {b:.3f}')\n",
        "\n",
        "sales_100 = w * 100 + b\n",
        "sales_200 = w * 200 + b\n",
        "print('Increasing TV advertising from 100 to 200 increases predicted sales'+\n",
        "      f' from {sales_100:.1f} to {sales_200:.1f} thousand widgets')\n",
        "\n",
        "# plot the reslts\n",
        "fig = plt.figure(figsize=(7,7))\n",
        "ax  = fig.add_subplot(111)\n",
        "\n",
        "ax.scatter(X, y,  color='blue', alpha=0.5, label = 'data')\n",
        "ax.plot(X, y_pred, color='black', alpha=0.8,linewidth=2, label = 'model')\n",
        "ax.set_xlabel('TV advertising (thousands of dollars)')\n",
        "ax.set_ylabel('Widget sales (in thousands)')\n",
        "ax.legend(loc=\"best\");"
      ]
    },
    {
      "cell_type": "markdown",
      "metadata": {
        "id": "KNxmLqIKjzMR"
      },
      "source": [
        "### Using the model for prediction\n",
        "\n",
        "Let's say that there was a new market where the TV advertising budget was **$50,000**. What would be the predicted sales in that market?\n"
      ]
    },
    {
      "cell_type": "code",
      "execution_count": null,
      "metadata": {
        "id": "140_lr0UjzMR",
        "outputId": "31a245bd-5377-467c-effe-6b2edd89c9c2"
      },
      "outputs": [
        {
          "data": {
            "text/plain": [
              "9.409425570778682"
            ]
          },
          "execution_count": 12,
          "metadata": {},
          "output_type": "execute_result"
        }
      ],
      "source": [
        "# compute using the formula w * x + b:\n",
        "linreg.coef_[0] * 50 + linreg.intercept_"
      ]
    },
    {
      "cell_type": "code",
      "execution_count": null,
      "metadata": {
        "id": "l_Eo8pz-jzMR",
        "outputId": "83f68c66-8970-40dd-ab9c-19bd37700a8c"
      },
      "outputs": [
        {
          "data": {
            "text/plain": [
              "array([9.4094])"
            ]
          },
          "execution_count": 13,
          "metadata": {},
          "output_type": "execute_result"
        }
      ],
      "source": [
        "# or using the predict method:\n",
        "linreg.predict(np.array([[50]]))"
      ]
    },
    {
      "cell_type": "markdown",
      "metadata": {
        "id": "md7G6eUIjzMR"
      },
      "source": [
        "### Exercise:  toy data\n",
        "\n",
        "Create one-dimensional regression data using scikit-learn's [make_regression](https://scikit-learn.org/stable/modules/generated/sklearn.datasets.make_regression.html#sklearn.datasets.make_regression).  Use linear regression to create a model and plot the resulting fitted line.  Evaluate the quality of the model on a separate test set using the Root-Mean-Square Error (RMSE) which is the square root of the mean of the squared errors:\n",
        "\n",
        "$$\\mathrm{RMSE} = \\sqrt{\\frac 1N\\sum_{i=1}^N(y_i-\\hat{y}_i)^2}$$\n",
        "\n",
        "Compare the RMSE on the training set with the RMSE on the test set.\n",
        "In implementing the RMSE calculation, avoid using a for loop!\n",
        "\n",
        "Note that `make_regression` has a `noise` parameter that controls the level of noise in the labels (it sets its standard deviation).  Choose an appropriate value so the data \"looks noisy\" when plotted."
      ]
    },
    {
      "cell_type": "code",
      "execution_count": null,
      "metadata": {
        "id": "dXu68CjWjzMS"
      },
      "outputs": [],
      "source": [
        "from sklearn.linear_model import LinearRegression\n",
        "from sklearn.datasets import make_regression\n",
        "\n",
        "# create data\n",
        "noise_level = 1\n",
        "X, y = make_regression(400, 1, noise=noise_level)\n",
        "\n",
        "# plot the data\n",
        "\n",
        "# split into train / test\n",
        "\n",
        "# fit model\n",
        "\n",
        "# compute accuracy on train / test sets"
      ]
    },
    {
      "cell_type": "markdown",
      "metadata": {
        "id": "hRfnUpcVjzMS"
      },
      "source": [
        "### Exercise:  Susceptibility to outliers\n",
        "\n",
        "In the following toy problem, change the label of one of the data points to mimic a *data error* or other form of noise.  Describe the effect on the regression line."
      ]
    },
    {
      "cell_type": "code",
      "execution_count": null,
      "metadata": {
        "id": "PBJ0wfOAjzMS",
        "outputId": "a9bcd8aa-a4d9-4001-bf6a-242d37069cb0"
      },
      "outputs": [
        {
          "data": {
            "image/png": "[encoded data removed]",
            "text/plain": [
              "<Figure size 432x288 with 1 Axes>"
            ]
          },
          "metadata": {
            "needs_background": "light"
          },
          "output_type": "display_data"
        }
      ],
      "source": [
        "from sklearn.linear_model import LinearRegression\n",
        "\n",
        "rng = np.random.RandomState(5)\n",
        "x = 10 * rng.rand(15)\n",
        "y = 2 * x - 5 + rng.randn(15)\n",
        "\n",
        "model = LinearRegression()\n",
        "model.fit(x[:, np.newaxis], y)\n",
        "\n",
        "xs = np.linspace(0, 10, 1000)\n",
        "ys = model.predict(xs[:, np.newaxis])\n",
        "\n",
        "plt.scatter(x, y, alpha=0.5)\n",
        "plt.plot(xs, ys);\n"
      ]
    },
    {
      "cell_type": "code",
      "execution_count": null,
      "metadata": {
        "id": "VQ_qO0wsjzMS"
      },
      "outputs": [],
      "source": [
        "# copy the above code cell and change one of the data\n",
        "# points to illustrate errors / outliers on the resulting\n",
        "# model"
      ]
    },
    {
      "cell_type": "markdown",
      "metadata": {
        "id": "9p4EUuo6jzMS"
      },
      "source": [
        "### Exercise:  Feature scaling\n",
        "\n",
        "Let's say that TV was measured in dollars, rather than thousands of dollars. How would that affect the model?  Try that and try to explain the results."
      ]
    },
    {
      "cell_type": "code",
      "execution_count": null,
      "metadata": {
        "id": "qXAKBtasjzMT"
      },
      "outputs": [],
      "source": [
        "# your code:\n",
        "\n",
        "# scale the data\n",
        "\n",
        "# train the model and determine the effect on the\n",
        "# parameters of the model and its predictions.\n"
      ]
    }
  ],
  "metadata": {
    "anaconda-cloud": {},
    "kernelspec": {
      "display_name": "Python 3 (ipykernel)",
      "language": "python",
      "name": "python3"
    },
    "language_info": {
      "codemirror_mode": {
        "name": "ipython",
        "version": 3
      },
      "file_extension": ".py",
      "mimetype": "text/x-python",
      "name": "python",
      "nbconvert_exporter": "python",
      "pygments_lexer": "ipython3",
      "version": "3.11.7"
    },
    "colab": {
      "provenance": []
    }
  },
  "nbformat": 4,
  "nbformat_minor": 0
}