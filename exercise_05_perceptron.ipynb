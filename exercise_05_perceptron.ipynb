{
 "cells": [
  {
   "cell_type": "markdown",
   "id": "7add3fa7",
   "metadata": {},
   "source": [
    "# Exercise 5:  The perceptron\n",
    "\n",
    "In this notebook you will explore the perceptron algorithm.  For all questions use the scikit-learn [breast cancer dataset](https://scikit-learn.org/stable/modules/generated/sklearn.datasets.load_breast_cancer.html) and use the implementation of the perceptron we looked at in class.\n",
    "\n",
    "\n",
    "### Part 1: number of epochs\n",
    "\n",
    "Explore the accuracy of the perceptron on the breast cancer dataset while varying the number of epochs that the perceptron is trained.  Measure accuracy on both the training and test sets and plot the results as a function of number of epochs (best to use a logarithmic axis for the x-axis, using plt.semilogx).  What can you conclude?\n"
   ]
  },
  {
   "cell_type": "code",
   "execution_count": null,
   "id": "5b67fdcd",
   "metadata": {},
   "outputs": [],
   "source": [
    "num_epochs = [2, 5, 10, 20, 40, 100, 200, 500, 1000, 2000, 4000]"
   ]
  },
  {
   "cell_type": "markdown",
   "id": "9e5a1570",
   "metadata": {},
   "source": [
    "### Part 2\n",
    "\n",
    "Can you tell if the breast cancer dataset is linearly separable?"
   ]
  },
  {
   "cell_type": "markdown",
   "id": "10977994",
   "metadata": {},
   "source": [
    "*your answer here*"
   ]
  },
  {
   "cell_type": "code",
   "execution_count": null,
   "id": "be4698fe",
   "metadata": {},
   "outputs": [],
   "source": [
    "# and if you want to have some code"
   ]
  },
  {
   "cell_type": "markdown",
   "id": "f094f7a4",
   "metadata": {},
   "source": [
    "### Part 3: the learning rate\n",
    "\n",
    "How does the learning rate affect the accuracy of the perceptron?\n",
    "To address this question, plot training and test accuracy as a function of the learning rate.\n",
    "Again, use plt.semilogx for the x-axis to have a logarithmic scale for the x-axis."
   ]
  },
  {
   "cell_type": "code",
   "execution_count": null,
   "id": "b27f05f6",
   "metadata": {},
   "outputs": [],
   "source": [
    "learning_rates = [0.00001, 0.001, 0.01, 0.1, 1]"
   ]
  }
 ],
 "metadata": {
  "kernelspec": {
   "display_name": "Python 3 (ipykernel)",
   "language": "python",
   "name": "python3"
  },
  "language_info": {
   "codemirror_mode": {
    "name": "ipython",
    "version": 3
   },
   "file_extension": ".py",
   "mimetype": "text/x-python",
   "name": "python",
   "nbconvert_exporter": "python",
   "pygments_lexer": "ipython3",
   "version": "3.10.13"
  }
 },
 "nbformat": 4,
 "nbformat_minor": 5
}
